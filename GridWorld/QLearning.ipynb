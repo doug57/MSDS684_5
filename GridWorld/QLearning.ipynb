{
 "cells": [
  {
   "cell_type": "markdown",
   "metadata": {
    "pycharm": {
     "name": "#%% md\n"
    }
   },
   "source": [
    "#### Sutton and Barto, Reinforcement Learning 2nd. Edition, page 130.\n",
    "![Sutton and Barto, Reinforcement Learning 2nd. Edition.](./figures/QLearning.png)"
   ]
  },
  {
   "cell_type": "markdown",
   "metadata": {
    "pycharm": {
     "name": "#%% md\n"
    }
   },
   "source": [
    "Q-learning (off-policy TD control) for estimating π"
   ]
  },
  {
   "cell_type": "code",
   "execution_count": 1,
   "metadata": {
    "pycharm": {
     "name": "#%%\n"
    }
   },
   "outputs": [],
   "source": [
    "import numpy as np\n",
    "from rlgridworld.standard_grid import create_standard_grid"
   ]
  },
  {
   "attachments": {},
   "cell_type": "markdown",
   "metadata": {
    "pycharm": {
     "name": "#%% md\n"
    }
   },
   "source": [
    "Code to play game and return Q values -- Q(state,action)"
   ]
  },
  {
   "cell_type": "code",
   "execution_count": 2,
   "metadata": {
    "pycharm": {
     "name": "#%%\n"
    }
   },
   "outputs": [],
   "source": [
    "def play_game(gw, Q):\n",
    "    \n",
    "    epsilon = 0.05 # probability of exploration\n",
    "    gamma = 0.9 # discount factor for future rewards\n",
    "    alpha = 0.1 # Q update fraction\n",
    "\n",
    "    # game starting state\n",
    "    state = (0, 0)\n",
    "    converged = False\n",
    "    while not converged:\n",
    "        # select best action at the state\n",
    "        action, _ = max_dict(Q[state])\n",
    "        # get all valid actions at the state\n",
    "        all_actions = gw.valid_decisions(state)\n",
    "        # choose a random action with probability epsilon\n",
    "        action = random_action(action, all_actions, epsilon)\n",
    "        # get reward for action\n",
    "        reward = gw.get_reward_for_action(state, action)\n",
    "        stateprime = move(state, action)\n",
    "        iprime, jprime = stateprime\n",
    "        if not gw.is_terminal(stateprime):\n",
    "            _, destvalue = max_dict(Q[stateprime])\n",
    "            Q[state][action] = Q[state][action] + alpha*(reward + gamma*destvalue - Q[state][action])\n",
    "            state = stateprime\n",
    "        if gw.is_terminal(stateprime):\n",
    "            Q[state][action] = Q[state][action] + alpha*(reward - Q[state][action]) \n",
    "            converged = True\n",
    "    return Q\n",
    "\n",
    "def move(state, action):  # only valid actions at states are sent to move\n",
    "    i, j = state\n",
    "    if action == 'left':\n",
    "        j = j-1\n",
    "    if action == 'right':\n",
    "        j = j+1\n",
    "    if action == 'down':\n",
    "        i = i-1\n",
    "    if action == 'up':\n",
    "        i = i+1\n",
    "    return (i, j)\n",
    "\n",
    "def random_action(action, all_actions, epsilon):\n",
    "    p = np.random.random_sample()\n",
    "    if p < (1 - epsilon):\n",
    "        return action\n",
    "    else:\n",
    "        return np.random.choice(all_actions)\n",
    "\n",
    "def max_dict(d):\n",
    "    # returns the argmax (key) and max (value) from a dictionary\n",
    "    # put this into a function since we are using it so often\n",
    "    max_key = None\n",
    "    max_val = float('-inf')\n",
    "    for k, v in d.items():\n",
    "        if v > max_val:\n",
    "            max_val = v\n",
    "            max_key = k\n",
    "    return max_key, max_val\n",
    "\n",
    "def init_Q(gw):\n",
    "    # initialize Q values\n",
    "    Q = {}\n",
    "    for i in range(0, gw.M):\n",
    "        for j in range(0, gw.N):\n",
    "            state = (i,j)\n",
    "            if not gw.is_barrier(state) and not gw.is_terminal(state):\n",
    "                Q[state] = {}\n",
    "                all_actions = gw.valid_decisions(state)\n",
    "                for a in all_actions:\n",
    "                    Q[state][a] = 0\n",
    "    return Q\n"
   ]
  },
  {
   "cell_type": "markdown",
   "metadata": {
    "pycharm": {
     "name": "#%% md\n"
    }
   },
   "source": [
    "Create the standard grid"
   ]
  },
  {
   "cell_type": "code",
   "execution_count": 3,
   "metadata": {
    "pycharm": {
     "name": "#%%\n"
    }
   },
   "outputs": [],
   "source": [
    "gw = create_standard_grid()"
   ]
  },
  {
   "cell_type": "markdown",
   "metadata": {
    "pycharm": {
     "name": "#%% md\n"
    }
   },
   "source": [
    "Initialize the Q dictionary"
   ]
  },
  {
   "cell_type": "code",
   "execution_count": 4,
   "metadata": {
    "pycharm": {
     "name": "#%%\n"
    }
   },
   "outputs": [],
   "source": [
    "Q = init_Q( gw )"
   ]
  },
  {
   "attachments": {},
   "cell_type": "markdown",
   "metadata": {
    "pycharm": {
     "name": "#%% md\n"
    }
   },
   "source": [
    "See what is in the initial Q dictionary. The tuples (the pair of numbers at the beginning of each line) are the dictionary keys. Each dictionary value is another dictionary. For the second dictionary, the decisions are the dictionary keys. The values in this dictionary are the Q values for each action at the designated state."
   ]
  },
  {
   "cell_type": "code",
   "execution_count": 5,
   "metadata": {
    "pycharm": {
     "name": "#%%\n"
    }
   },
   "outputs": [
    {
     "data": {
      "text/plain": [
       "{(0, 0): {'right': 0, 'up': 0},\n",
       " (0, 1): {'left': 0, 'right': 0},\n",
       " (0, 2): {'left': 0, 'right': 0, 'up': 0},\n",
       " (0, 3): {'left': 0, 'up': 0},\n",
       " (1, 0): {'down': 0, 'up': 0},\n",
       " (1, 2): {'right': 0, 'down': 0, 'up': 0},\n",
       " (2, 0): {'right': 0, 'down': 0},\n",
       " (2, 1): {'left': 0, 'right': 0},\n",
       " (2, 2): {'left': 0, 'right': 0, 'down': 0}}"
      ]
     },
     "execution_count": 5,
     "metadata": {},
     "output_type": "execute_result"
    }
   ],
   "source": [
    "Q"
   ]
  },
  {
   "cell_type": "markdown",
   "metadata": {
    "pycharm": {
     "name": "#%% md\n"
    }
   },
   "source": [
    "Play one iteration of the game"
   ]
  },
  {
   "cell_type": "code",
   "execution_count": 6,
   "metadata": {
    "pycharm": {
     "name": "#%%\n"
    }
   },
   "outputs": [],
   "source": [
    "Q = play_game(gw, Q)"
   ]
  },
  {
   "attachments": {},
   "cell_type": "markdown",
   "metadata": {
    "pycharm": {
     "name": "#%% md\n"
    }
   },
   "source": [
    "See what the Q values are. Note the effect of the alpha factor in the updates of the Q values."
   ]
  },
  {
   "cell_type": "code",
   "execution_count": 7,
   "metadata": {
    "pycharm": {
     "name": "#%%\n"
    }
   },
   "outputs": [
    {
     "data": {
      "text/plain": [
       "{(0, 0): {'right': 0.0, 'up': 0.0},\n",
       " (0, 1): {'left': 0.0, 'right': 0.0},\n",
       " (0, 2): {'left': 0.0, 'right': 0.0, 'up': 0.0},\n",
       " (0, 3): {'left': 0.0, 'up': 0},\n",
       " (1, 0): {'down': 0.0, 'up': 0.0},\n",
       " (1, 2): {'right': -0.1, 'down': 0, 'up': 0},\n",
       " (2, 0): {'right': 0.0, 'down': 0.0},\n",
       " (2, 1): {'left': 0.0, 'right': 0.0},\n",
       " (2, 2): {'left': 0.0, 'right': 0, 'down': 0}}"
      ]
     },
     "execution_count": 7,
     "metadata": {},
     "output_type": "execute_result"
    }
   ],
   "source": [
    "Q"
   ]
  },
  {
   "cell_type": "markdown",
   "metadata": {
    "pycharm": {
     "name": "#%% md\n"
    }
   },
   "source": [
    "Play another iteration of the game and see what the Q values are"
   ]
  },
  {
   "cell_type": "code",
   "execution_count": 8,
   "metadata": {
    "pycharm": {
     "name": "#%%\n"
    }
   },
   "outputs": [],
   "source": [
    "Q = play_game(gw, Q)"
   ]
  },
  {
   "cell_type": "code",
   "execution_count": 9,
   "metadata": {
    "pycharm": {
     "name": "#%%\n"
    }
   },
   "outputs": [
    {
     "data": {
      "text/plain": [
       "{(0, 0): {'right': 0.0, 'up': 0.0},\n",
       " (0, 1): {'left': 0.0, 'right': 0.0},\n",
       " (0, 2): {'left': 0.0, 'right': 0.0, 'up': 0.0},\n",
       " (0, 3): {'left': 0.0, 'up': -0.1},\n",
       " (1, 0): {'down': 0.0, 'up': 0.0},\n",
       " (1, 2): {'right': -0.1, 'down': 0.0, 'up': 0.0},\n",
       " (2, 0): {'right': 0.0, 'down': 0.0},\n",
       " (2, 1): {'left': 0.0, 'right': 0.0},\n",
       " (2, 2): {'left': 0.0, 'right': 0, 'down': 0.0}}"
      ]
     },
     "execution_count": 9,
     "metadata": {},
     "output_type": "execute_result"
    }
   ],
   "source": [
    "Q"
   ]
  },
  {
   "cell_type": "markdown",
   "metadata": {
    "pycharm": {
     "name": "#%% md\n"
    }
   },
   "source": [
    "Play the game 10000 times and see what the Q values are"
   ]
  },
  {
   "cell_type": "code",
   "execution_count": 10,
   "metadata": {
    "pycharm": {
     "name": "#%%\n"
    }
   },
   "outputs": [],
   "source": [
    "for _ in range(10000):\n",
    "    Q = play_game(gw, Q)"
   ]
  },
  {
   "cell_type": "code",
   "execution_count": 11,
   "metadata": {
    "pycharm": {
     "name": "#%%\n"
    }
   },
   "outputs": [
    {
     "data": {
      "text/plain": [
       "{(0, 0): {'right': 0.5314409999997758, 'up': 0.6560999999999979},\n",
       " (0, 1): {'left': 0.5904899999999977, 'right': 0.27195020511481655},\n",
       " (0, 2): {'left': 0.5314409996065254,\n",
       "  'right': 0.004304247247376447,\n",
       "  'up': 0.08178868036170878},\n",
       " (0, 3): {'left': 0.09087191542298795, 'up': -0.1},\n",
       " (1, 0): {'down': 0.5904899999998027, 'up': 0.7289999999999983},\n",
       " (1, 2): {'right': -0.271, 'down': 0.47829689046419815, 'up': 0.0},\n",
       " (2, 0): {'right': 0.8099999999999987, 'down': 0.6560999999697452},\n",
       " (2, 1): {'left': 0.7289999999997339, 'right': 0.899999999999999},\n",
       " (2, 2): {'left': 0.8099998051361166,\n",
       "  'right': 0.9999999999999996,\n",
       "  'down': 0.43046708985120546}}"
      ]
     },
     "execution_count": 11,
     "metadata": {},
     "output_type": "execute_result"
    }
   ],
   "source": [
    "Q"
   ]
  },
  {
   "attachments": {},
   "cell_type": "markdown",
   "metadata": {
    "pycharm": {
     "name": "#%% md\n"
    }
   },
   "source": [
    "Extract value function and policy function from the Q table."
   ]
  },
  {
   "cell_type": "code",
   "execution_count": 12,
   "metadata": {
    "pycharm": {
     "name": "#%%\n"
    }
   },
   "outputs": [],
   "source": [
    "policy = {}\n",
    "for i in range(gw.M):\n",
    "    for j in range(gw.N):\n",
    "        state = (i,j)\n",
    "        if gw.is_barrier(state):\n",
    "            policy[state] = ''\n",
    "        if gw.is_terminal(state):\n",
    "            policy[state] = ''\n",
    "        if not gw.is_barrier(state) and not gw.is_terminal(state):\n",
    "            action, value = max_dict(Q[state])\n",
    "            gw.set_value(state, value)\n",
    "            policy[state] = action"
   ]
  },
  {
   "cell_type": "code",
   "execution_count": 13,
   "metadata": {
    "pycharm": {
     "name": "#%%\n"
    }
   },
   "outputs": [
    {
     "name": "stdout",
     "output_type": "stream",
     "text": [
      "-------------------------------------\n",
      "|   0.81 |   0.90 |   1.00 |   0.00 |\n",
      "-------------------------------------\n",
      "|   0.73 |   0.00 |   0.48 |   0.00 |\n",
      "-------------------------------------\n",
      "|   0.66 |   0.59 |   0.53 |   0.09 |\n",
      "-------------------------------------\n",
      "-------------------------------------\n",
      "|  Right |  Right |  Right |        |\n",
      "-------------------------------------\n",
      "|     Up |        |   Down |        |\n",
      "-------------------------------------\n",
      "|     Up |   Left |   Left |   Left |\n",
      "-------------------------------------\n"
     ]
    }
   ],
   "source": [
    "gw.print_values()\n",
    "gw.print_policy(policy)"
   ]
  }
 ],
 "metadata": {
  "kernelspec": {
   "display_name": "base",
   "language": "python",
   "name": "python3"
  },
  "language_info": {
   "codemirror_mode": {
    "name": "ipython",
    "version": 3
   },
   "file_extension": ".py",
   "mimetype": "text/x-python",
   "name": "python",
   "nbconvert_exporter": "python",
   "pygments_lexer": "ipython3",
   "version": "3.9.16"
  },
  "vscode": {
   "interpreter": {
    "hash": "0f5e205f0dab9f5b5c48332b01f1ce52dc39cccca7321ea067c41f65ea27517c"
   }
  }
 },
 "nbformat": 4,
 "nbformat_minor": 4
}
